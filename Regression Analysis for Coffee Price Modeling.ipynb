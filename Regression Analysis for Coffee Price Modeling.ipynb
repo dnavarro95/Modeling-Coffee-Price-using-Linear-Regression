{
 "cells": [
  {
   "cell_type": "code",
   "execution_count": 1,
   "id": "analyzed-reasoning",
   "metadata": {},
   "outputs": [
    {
     "name": "stdout",
     "output_type": "stream",
     "text": [
      "Collecting seaborn\n",
      "  Downloading seaborn-0.11.1-py3-none-any.whl (285 kB)\n",
      "Requirement already satisfied: numpy>=1.15 in /srv/conda/envs/notebook/lib/python3.6/site-packages (from seaborn) (1.19.5)\n",
      "Requirement already satisfied: pandas>=0.23 in /srv/conda/envs/notebook/lib/python3.6/site-packages (from seaborn) (1.1.5)\n",
      "Requirement already satisfied: scipy>=1.0 in /srv/conda/envs/notebook/lib/python3.6/site-packages (from seaborn) (1.5.3)\n",
      "Requirement already satisfied: matplotlib>=2.2 in /srv/conda/envs/notebook/lib/python3.6/site-packages (from seaborn) (3.3.4)\n",
      "Requirement already satisfied: kiwisolver>=1.0.1 in /srv/conda/envs/notebook/lib/python3.6/site-packages (from matplotlib>=2.2->seaborn) (1.3.1)\n",
      "Requirement already satisfied: pillow>=6.2.0 in /srv/conda/envs/notebook/lib/python3.6/site-packages (from matplotlib>=2.2->seaborn) (8.2.0)\n",
      "Requirement already satisfied: pyparsing!=2.0.4,!=2.1.2,!=2.1.6,>=2.0.3 in /srv/conda/envs/notebook/lib/python3.6/site-packages (from matplotlib>=2.2->seaborn) (2.4.7)\n",
      "Requirement already satisfied: python-dateutil>=2.1 in /srv/conda/envs/notebook/lib/python3.6/site-packages (from matplotlib>=2.2->seaborn) (2.8.1)\n",
      "Requirement already satisfied: cycler>=0.10 in /srv/conda/envs/notebook/lib/python3.6/site-packages/cycler-0.10.0-py3.6.egg (from matplotlib>=2.2->seaborn) (0.10.0)\n",
      "Requirement already satisfied: six in /srv/conda/envs/notebook/lib/python3.6/site-packages (from cycler>=0.10->matplotlib>=2.2->seaborn) (1.15.0)\n",
      "Requirement already satisfied: pytz>=2017.2 in /srv/conda/envs/notebook/lib/python3.6/site-packages (from pandas>=0.23->seaborn) (2021.1)\n",
      "Installing collected packages: seaborn\n",
      "Successfully installed seaborn-0.11.1\n"
     ]
    }
   ],
   "source": [
    "%%bash\n",
    "pip install seaborn"
   ]
  },
  {
   "cell_type": "code",
   "execution_count": 2,
   "id": "interior-entrepreneur",
   "metadata": {},
   "outputs": [
    {
     "data": {
      "text/html": [
       "<div>\n",
       "<style scoped>\n",
       "    .dataframe tbody tr th:only-of-type {\n",
       "        vertical-align: middle;\n",
       "    }\n",
       "\n",
       "    .dataframe tbody tr th {\n",
       "        vertical-align: top;\n",
       "    }\n",
       "\n",
       "    .dataframe thead th {\n",
       "        text-align: right;\n",
       "    }\n",
       "</style>\n",
       "<table border=\"1\" class=\"dataframe\">\n",
       "  <thead>\n",
       "    <tr style=\"text-align: right;\">\n",
       "      <th></th>\n",
       "      <th>price</th>\n",
       "      <th>production</th>\n",
       "      <th>consumption</th>\n",
       "      <th>inventories</th>\n",
       "      <th>exports</th>\n",
       "    </tr>\n",
       "  </thead>\n",
       "  <tbody>\n",
       "    <tr>\n",
       "      <th>0</th>\n",
       "      <td>1.474632</td>\n",
       "      <td>93230.0596</td>\n",
       "      <td>84158.44695</td>\n",
       "      <td>15957</td>\n",
       "      <td>75943.17839</td>\n",
       "    </tr>\n",
       "    <tr>\n",
       "      <th>1</th>\n",
       "      <td>1.177741</td>\n",
       "      <td>101266.6844</td>\n",
       "      <td>85832.98166</td>\n",
       "      <td>19328</td>\n",
       "      <td>78299.23721</td>\n",
       "    </tr>\n",
       "    <tr>\n",
       "      <th>2</th>\n",
       "      <td>1.360504</td>\n",
       "      <td>98525.8992</td>\n",
       "      <td>89801.57684</td>\n",
       "      <td>16137</td>\n",
       "      <td>75168.15032</td>\n",
       "    </tr>\n",
       "    <tr>\n",
       "      <th>3</th>\n",
       "      <td>2.968046</td>\n",
       "      <td>91764.6216</td>\n",
       "      <td>85102.38660</td>\n",
       "      <td>14789</td>\n",
       "      <td>70716.49760</td>\n",
       "    </tr>\n",
       "    <tr>\n",
       "      <th>4</th>\n",
       "      <td>3.055574</td>\n",
       "      <td>93313.1940</td>\n",
       "      <td>88195.68172</td>\n",
       "      <td>9287</td>\n",
       "      <td>67869.82520</td>\n",
       "    </tr>\n",
       "  </tbody>\n",
       "</table>\n",
       "</div>"
      ],
      "text/plain": [
       "      price   production  consumption  inventories      exports\n",
       "0  1.474632   93230.0596  84158.44695        15957  75943.17839\n",
       "1  1.177741  101266.6844  85832.98166        19328  78299.23721\n",
       "2  1.360504   98525.8992  89801.57684        16137  75168.15032\n",
       "3  2.968046   91764.6216  85102.38660        14789  70716.49760\n",
       "4  3.055574   93313.1940  88195.68172         9287  67869.82520"
      ]
     },
     "execution_count": 2,
     "metadata": {},
     "output_type": "execute_result"
    }
   ],
   "source": [
    "# The following script has been written with the objective of analyzing coffee market data in order to explore how\n",
    "#regression modeling can help to predict coffee prices based on supply and demand variables\n",
    "\n",
    "#Step 1: Importing and installing all necessary libraries\n",
    "import pandas as pd\n",
    "\n",
    "import numpy as np\n",
    "\n",
    "from scipy import stats\n",
    "\n",
    "from sklearn.linear_model import LinearRegression\n",
    "\n",
    "from sklearn.model_selection import train_test_split\n",
    "\n",
    "from sklearn.preprocessing import StandardScaler,PolynomialFeatures\n",
    "\n",
    "from sklearn.model_selection import cross_val_score\n",
    "\n",
    "from sklearn.pipeline import Pipeline\n",
    "\n",
    "from sklearn.preprocessing import StandardScaler,PolynomialFeatures\n",
    "\n",
    "from sklearn.metrics import mean_squared_error\n",
    "\n",
    "import matplotlib.pyplot as plt\n",
    "\n",
    "%matplotlib inline\n",
    "\n",
    "\n",
    "#I encountered a problem just beginning when I tried to import the library in my jupyter notebook, and the error \n",
    "#“No module named seaborn” poped up. \n",
    "#After a quick google search, the error was fixed by typing the following code:\n",
    "\n",
    "#%%bash\n",
    "#pip install seaborn\n",
    "\n",
    "#Now we can import the seaborn library\n",
    "import seaborn as sns\n",
    "\n",
    "#Step 2: Importing the Data Set\n",
    "#I am using jupyter notebook for this project, so first the data set must be uploaded to jupyter, then you can import it\n",
    "# You can find the data set I used here in GitHub under Files\n",
    "\n",
    "\n",
    "df=pd.read_csv('data_set.csv')\n",
    "\n",
    "#We verify the data set looks good by looking at the first five rows\n",
    "\n",
    "df.head()\n",
    "\n"
   ]
  },
  {
   "cell_type": "code",
   "execution_count": 3,
   "id": "decimal-learning",
   "metadata": {},
   "outputs": [
    {
     "data": {
      "text/html": [
       "<div>\n",
       "<style scoped>\n",
       "    .dataframe tbody tr th:only-of-type {\n",
       "        vertical-align: middle;\n",
       "    }\n",
       "\n",
       "    .dataframe tbody tr th {\n",
       "        vertical-align: top;\n",
       "    }\n",
       "\n",
       "    .dataframe thead th {\n",
       "        text-align: right;\n",
       "    }\n",
       "</style>\n",
       "<table border=\"1\" class=\"dataframe\">\n",
       "  <thead>\n",
       "    <tr style=\"text-align: right;\">\n",
       "      <th></th>\n",
       "      <th>price</th>\n",
       "      <th>production</th>\n",
       "      <th>consumption</th>\n",
       "      <th>inventories</th>\n",
       "      <th>exports</th>\n",
       "    </tr>\n",
       "  </thead>\n",
       "  <tbody>\n",
       "    <tr>\n",
       "      <th>count</th>\n",
       "      <td>23.000000</td>\n",
       "      <td>23.000000</td>\n",
       "      <td>23.000000</td>\n",
       "      <td>23.000000</td>\n",
       "      <td>23.000000</td>\n",
       "    </tr>\n",
       "    <tr>\n",
       "      <th>mean</th>\n",
       "      <td>2.229690</td>\n",
       "      <td>114759.075057</td>\n",
       "      <td>101659.179270</td>\n",
       "      <td>16634.130435</td>\n",
       "      <td>88039.228973</td>\n",
       "    </tr>\n",
       "    <tr>\n",
       "      <th>std</th>\n",
       "      <td>0.923942</td>\n",
       "      <td>18302.297026</td>\n",
       "      <td>12693.294531</td>\n",
       "      <td>4566.095202</td>\n",
       "      <td>11132.168872</td>\n",
       "    </tr>\n",
       "    <tr>\n",
       "      <th>min</th>\n",
       "      <td>1.006439</td>\n",
       "      <td>87317.458200</td>\n",
       "      <td>84158.446950</td>\n",
       "      <td>7716.000000</td>\n",
       "      <td>67869.825200</td>\n",
       "    </tr>\n",
       "    <tr>\n",
       "      <th>25%</th>\n",
       "      <td>1.395052</td>\n",
       "      <td>100563.941700</td>\n",
       "      <td>90544.352115</td>\n",
       "      <td>15373.000000</td>\n",
       "      <td>79282.198090</td>\n",
       "    </tr>\n",
       "    <tr>\n",
       "      <th>50%</th>\n",
       "      <td>2.253127</td>\n",
       "      <td>110967.455500</td>\n",
       "      <td>98988.115450</td>\n",
       "      <td>18649.000000</td>\n",
       "      <td>88831.953170</td>\n",
       "    </tr>\n",
       "    <tr>\n",
       "      <th>75%</th>\n",
       "      <td>2.849402</td>\n",
       "      <td>129580.925400</td>\n",
       "      <td>112924.956550</td>\n",
       "      <td>20075.500000</td>\n",
       "      <td>96272.010740</td>\n",
       "    </tr>\n",
       "    <tr>\n",
       "      <th>max</th>\n",
       "      <td>4.644352</td>\n",
       "      <td>151096.987000</td>\n",
       "      <td>123908.874000</td>\n",
       "      <td>21914.000000</td>\n",
       "      <td>108566.760700</td>\n",
       "    </tr>\n",
       "  </tbody>\n",
       "</table>\n",
       "</div>"
      ],
      "text/plain": [
       "           price     production    consumption   inventories        exports\n",
       "count  23.000000      23.000000      23.000000     23.000000      23.000000\n",
       "mean    2.229690  114759.075057  101659.179270  16634.130435   88039.228973\n",
       "std     0.923942   18302.297026   12693.294531   4566.095202   11132.168872\n",
       "min     1.006439   87317.458200   84158.446950   7716.000000   67869.825200\n",
       "25%     1.395052  100563.941700   90544.352115  15373.000000   79282.198090\n",
       "50%     2.253127  110967.455500   98988.115450  18649.000000   88831.953170\n",
       "75%     2.849402  129580.925400  112924.956550  20075.500000   96272.010740\n",
       "max     4.644352  151096.987000  123908.874000  21914.000000  108566.760700"
      ]
     },
     "execution_count": 3,
     "metadata": {},
     "output_type": "execute_result"
    }
   ],
   "source": [
    "#Let's take a quick look at the statsitics summary of the data set\n",
    "df.describe()"
   ]
  },
  {
   "cell_type": "code",
   "execution_count": 4,
   "id": "retained-split",
   "metadata": {},
   "outputs": [
    {
     "data": {
      "text/plain": [
       "price          float64\n",
       "production     float64\n",
       "consumption    float64\n",
       "inventories      int64\n",
       "exports        float64\n",
       "dtype: object"
      ]
     },
     "execution_count": 4,
     "metadata": {},
     "output_type": "execute_result"
    }
   ],
   "source": [
    "#Let's also take a quick look at the data types, to see what we are working with\n",
    "\n",
    "df.dtypes\n"
   ]
  },
  {
   "cell_type": "code",
   "execution_count": 5,
   "id": "concerned-ottawa",
   "metadata": {},
   "outputs": [
    {
     "data": {
      "text/html": [
       "<div>\n",
       "<style scoped>\n",
       "    .dataframe tbody tr th:only-of-type {\n",
       "        vertical-align: middle;\n",
       "    }\n",
       "\n",
       "    .dataframe tbody tr th {\n",
       "        vertical-align: top;\n",
       "    }\n",
       "\n",
       "    .dataframe thead th {\n",
       "        text-align: right;\n",
       "    }\n",
       "</style>\n",
       "<table border=\"1\" class=\"dataframe\">\n",
       "  <thead>\n",
       "    <tr style=\"text-align: right;\">\n",
       "      <th></th>\n",
       "      <th>production</th>\n",
       "      <th>exports</th>\n",
       "      <th>consumption</th>\n",
       "      <th>inventories</th>\n",
       "      <th>price</th>\n",
       "    </tr>\n",
       "  </thead>\n",
       "  <tbody>\n",
       "    <tr>\n",
       "      <th>production</th>\n",
       "      <td>1.000000</td>\n",
       "      <td>0.913987</td>\n",
       "      <td>0.873467</td>\n",
       "      <td>0.586091</td>\n",
       "      <td>0.366376</td>\n",
       "    </tr>\n",
       "    <tr>\n",
       "      <th>exports</th>\n",
       "      <td>0.913987</td>\n",
       "      <td>1.000000</td>\n",
       "      <td>0.939016</td>\n",
       "      <td>0.600881</td>\n",
       "      <td>0.323984</td>\n",
       "    </tr>\n",
       "    <tr>\n",
       "      <th>consumption</th>\n",
       "      <td>0.873467</td>\n",
       "      <td>0.939016</td>\n",
       "      <td>1.000000</td>\n",
       "      <td>0.599648</td>\n",
       "      <td>0.463035</td>\n",
       "    </tr>\n",
       "    <tr>\n",
       "      <th>inventories</th>\n",
       "      <td>0.586091</td>\n",
       "      <td>0.600881</td>\n",
       "      <td>0.599648</td>\n",
       "      <td>1.000000</td>\n",
       "      <td>-0.159092</td>\n",
       "    </tr>\n",
       "    <tr>\n",
       "      <th>price</th>\n",
       "      <td>0.366376</td>\n",
       "      <td>0.323984</td>\n",
       "      <td>0.463035</td>\n",
       "      <td>-0.159092</td>\n",
       "      <td>1.000000</td>\n",
       "    </tr>\n",
       "  </tbody>\n",
       "</table>\n",
       "</div>"
      ],
      "text/plain": [
       "             production   exports  consumption  inventories     price\n",
       "production     1.000000  0.913987     0.873467     0.586091  0.366376\n",
       "exports        0.913987  1.000000     0.939016     0.600881  0.323984\n",
       "consumption    0.873467  0.939016     1.000000     0.599648  0.463035\n",
       "inventories    0.586091  0.600881     0.599648     1.000000 -0.159092\n",
       "price          0.366376  0.323984     0.463035    -0.159092  1.000000"
      ]
     },
     "execution_count": 5,
     "metadata": {},
     "output_type": "execute_result"
    }
   ],
   "source": [
    "#Step 3: Exploring Correlation between Variables\n",
    "#I want to start by exploring how the variables correlate with each other and with the price of coffee\n",
    "\n",
    "df[['production','exports','consumption','inventories','price']].corr()"
   ]
  },
  {
   "cell_type": "code",
   "execution_count": 6,
   "id": "wrong-morgan",
   "metadata": {},
   "outputs": [
    {
     "data": {
      "text/plain": [
       "<AxesSubplot:xlabel='consumption', ylabel='price'>"
      ]
     },
     "execution_count": 6,
     "metadata": {},
     "output_type": "execute_result"
    },
    {
     "data": {
      "image/png": "[encoded data removed]",
      "text/plain": [
       "<Figure size 432x288 with 1 Axes>"
      ]
     },
     "metadata": {
      "needs_background": "light"
     },
     "output_type": "display_data"
    }
   ],
   "source": [
    "#The highest correlation coefficient is between price and consumption\n",
    "#Let's take a look at s scatter plot between this two variables\n",
    "\n",
    "sns.regplot(x='consumption',y='price',data=df)"
   ]
  },
  {
   "cell_type": "code",
   "execution_count": 7,
   "id": "earlier-regard",
   "metadata": {},
   "outputs": [
    {
     "data": {
      "text/plain": [
       "(0.4630354550632886, 0.02607946716554589)"
      ]
     },
     "execution_count": 7,
     "metadata": {},
     "output_type": "execute_result"
    }
   ],
   "source": [
    "#Let's figure the p-value for this correlation\n",
    "stats.pearsonr(df['consumption'],df['price'])"
   ]
  },
  {
   "cell_type": "code",
   "execution_count": 8,
   "id": "incorporate-figure",
   "metadata": {},
   "outputs": [
    {
     "name": "stdout",
     "output_type": "stream",
     "text": [
      "[0.0014364236095530947, 0.0774569586010142, 0.012527994077712545, 0.02323991946669912]\n",
      "[0.006258405851815474, 0.1545215457691267, 0.038964299041345796, 0.004258033645356152]\n",
      "[-1.9207466710453098, -1.584155869458114, -2.280329738473878, -1.3799852329094906]\n"
     ]
    }
   ],
   "source": [
    "#Step 4: Building Simple Linear Regression Models\n",
    "# Here I build a model with each predictor as simple linear regression\n",
    "# Then evaluating the goodness of the fit using R-squared for cross validation\n",
    "\n",
    "#First let's look a simple linear regression models for each predictor\n",
    "\n",
    "y_data = df['price']\n",
    "\n",
    "#List with predictors A\n",
    "\n",
    "A=['production','consumption','exports','inventories']\n",
    "\n",
    "#Empty list to store the r-squared value on training set\n",
    "\n",
    "R_training=[]\n",
    "\n",
    "#Empty list to store the r-squared value on trainin set\n",
    "\n",
    "R_test=[]\n",
    "\n",
    "#Empty list to store the values of r-squared using cross validation\n",
    "\n",
    "R_cross_val=[]\n",
    "\n",
    "#For loop that executes the commands through each value of the list A\n",
    "\n",
    "for i in A:\n",
    "    \n",
    "    x_data= df[[i]]\n",
    "\n",
    "    # The data is split in a training set and a testing set. The testing set will be 30% of the data\n",
    "\n",
    "    x_train, x_test, y_train, y_test = train_test_split(x_data, y_data, test_size=0.30, random_state=0)\n",
    "    \n",
    "    #We build the linear regression object\n",
    "    lm= LinearRegression()\n",
    "    \n",
    "    #We train the model\n",
    "    lm.fit(x_train,y_train)\n",
    "    \n",
    "    #Append the values of r-aquared to the corresponding list\n",
    "    \n",
    "    R_training.append(lm.score(x_train,y_train))\n",
    "    R_test.append(lm.score(x_test,y_test))\n",
    "    scores=cross_val_score(lm,x_data,y_data,cv=4)\n",
    "    R_cross_val.append(np.mean(scores))\n",
    "    \n",
    "print(R_training)\n",
    "print(R_test)\n",
    "print(R_cross_val)"
   ]
  },
  {
   "cell_type": "code",
   "execution_count": 9,
   "id": "durable-essence",
   "metadata": {},
   "outputs": [
    {
     "name": "stdout",
     "output_type": "stream",
     "text": [
      "Number of training samples: 16\n",
      "Number of test samples: 7\n",
      "R_train = 0.5031240405070048\n",
      "R_test = 0.5096414900291966\n",
      "R_cross_val -2.8959192071836632\n"
     ]
    }
   ],
   "source": [
    "#Step 5: Multiple Linear Regression\n",
    "\n",
    "y_data = df['price']\n",
    "\n",
    "x_data= df[['production','consumption','exports','inventories']]\n",
    "\n",
    "# The data is split in a training set and a testing set. The testing set will be 30% of the data\n",
    "\n",
    "x_train, x_test, y_train, y_test = train_test_split(x_data, y_data, test_size=0.3,random_state=0)\n",
    "\n",
    "lm= LinearRegression()\n",
    "\n",
    "lm.fit(x_train,y_train)\n",
    "#Calculating the R-squared of the model in the training set\n",
    "R_train=lm.score(x_train,y_train)\n",
    "\n",
    "#Calculating the R-squared of the model in the test set\n",
    "R_test=lm.score(x_test,y_test)\n",
    "\n",
    "# Calculating the R-squared of the model using cross validation with 4 folds\n",
    "scores=cross_val_score(lm,x_data,y_data,cv=3)\n",
    "\n",
    "print('Number of training samples:',x_train.shape[0])\n",
    "print('Number of test samples:', x_test.shape[0])\n",
    "\n",
    "print('R_train =',R_train)\n",
    "print('R_test =',R_test)\n",
    "print('R_cross_val',np.mean(scores))"
   ]
  },
  {
   "cell_type": "code",
   "execution_count": 10,
   "id": "comfortable-verification",
   "metadata": {},
   "outputs": [],
   "source": [
    "#Defining Function to create Distribution Plot\n",
    "def DistributionPlot(RedFunction, BlueFunction, RedName, BlueName, Title):\n",
    "    width = 12\n",
    "    height = 10\n",
    "    plt.figure(figsize=(width, height))\n",
    "\n",
    "    ax1 = sns.distplot(RedFunction, hist=False, color=\"r\", label=RedName)\n",
    "    ax2 = sns.distplot(BlueFunction, hist=False, color=\"b\", label=BlueName, ax=ax1)\n",
    "\n",
    "    plt.title(Title)\n",
    "    plt.xlabel('Price (USD)')\n",
    "    plt.ylabel('Proportion of Cases')\n",
    "\n",
    "    plt.show()\n",
    "    plt.close()"
   ]
  },
  {
   "cell_type": "code",
   "execution_count": 11,
   "id": "pressed-spider",
   "metadata": {},
   "outputs": [
    {
     "name": "stderr",
     "output_type": "stream",
     "text": [
      "/srv/conda/envs/notebook/lib/python3.6/site-packages/seaborn/distributions.py:2557: FutureWarning: `distplot` is a deprecated function and will be removed in a future version. Please adapt your code to use either `displot` (a figure-level function with similar flexibility) or `kdeplot` (an axes-level function for kernel density plots).\n",
      "  warnings.warn(msg, FutureWarning)\n",
      "/srv/conda/envs/notebook/lib/python3.6/site-packages/seaborn/distributions.py:2557: FutureWarning: `distplot` is a deprecated function and will be removed in a future version. Please adapt your code to use either `displot` (a figure-level function with similar flexibility) or `kdeplot` (an axes-level function for kernel density plots).\n",
      "  warnings.warn(msg, FutureWarning)\n"
     ]
    },
    {
     "data": {
      "image/png": "[encoded data removed]",
      "text/plain": [
       "<Figure size 864x720 with 1 Axes>"
      ]
     },
     "metadata": {
      "needs_background": "light"
     },
     "output_type": "display_data"
    }
   ],
   "source": [
    "#Running predictions using training set and test set\n",
    "y_hat_train = lm.predict(x_train)\n",
    "y_hat_test=lm.predict(x_test)\n",
    "Title = 'Distribution  Plot of  Predicted Price Using Training Data vs Training Data Distribution'\n",
    "Redname = 'Actual Values(Train)'\n",
    "Bluename= 'Predicted Values(Train)'\n",
    "DistributionPlot(y_train, y_hat_train, Redname, Bluename, Title)"
   ]
  },
  {
   "cell_type": "code",
   "execution_count": 12,
   "id": "floral-google",
   "metadata": {},
   "outputs": [
    {
     "name": "stderr",
     "output_type": "stream",
     "text": [
      "/srv/conda/envs/notebook/lib/python3.6/site-packages/seaborn/distributions.py:2557: FutureWarning: `distplot` is a deprecated function and will be removed in a future version. Please adapt your code to use either `displot` (a figure-level function with similar flexibility) or `kdeplot` (an axes-level function for kernel density plots).\n",
      "  warnings.warn(msg, FutureWarning)\n",
      "/srv/conda/envs/notebook/lib/python3.6/site-packages/seaborn/distributions.py:2557: FutureWarning: `distplot` is a deprecated function and will be removed in a future version. Please adapt your code to use either `displot` (a figure-level function with similar flexibility) or `kdeplot` (an axes-level function for kernel density plots).\n",
      "  warnings.warn(msg, FutureWarning)\n"
     ]
    },
    {
     "data": {
      "image/png": "[encoded data removed]",
      "text/plain": [
       "<Figure size 864x720 with 1 Axes>"
      ]
     },
     "metadata": {
      "needs_background": "light"
     },
     "output_type": "display_data"
    }
   ],
   "source": [
    "Title='Distribution  Plot of  Predicted Price Using Test Data vs Data Distribution of Test Data'\n",
    "DistributionPlot(y_test,y_hat_test,\"Actual Values (Test)\",\"Predicted Values (Test)\",Title)"
   ]
  },
  {
   "cell_type": "code",
   "execution_count": 13,
   "id": "acceptable-malawi",
   "metadata": {},
   "outputs": [
    {
     "data": {
      "text/plain": [
       "Text(0, 0.5, 'R-squared')"
      ]
     },
     "execution_count": 13,
     "metadata": {},
     "output_type": "execute_result"
    },
    {
     "data": {
      "image/png": "[encoded data removed]",
      "text/plain": [
       "<Figure size 432x288 with 1 Axes>"
      ]
     },
     "metadata": {
      "needs_background": "light"
     },
     "output_type": "display_data"
    }
   ],
   "source": [
    "#Step 6: Building Polynomial Regression Models\n",
    "#I used the following code to produce some r-squared metrics for polynomial models using different variables\n",
    "y_data = df['price']\n",
    "x_data1=df[['consumption']]\n",
    "def create_polynomial_regression_model(degree):\n",
    "    poly_features = PolynomialFeatures(degree=degree)\n",
    "    x_poly = poly_features.fit_transform(x_data1)\n",
    "    poly = LinearRegression()\n",
    "    return np.mean(cross_val_score(poly, x_poly, y_data, cv=2))\n",
    "poly_cv = []\n",
    "for i in range(1,8):\n",
    "    poly_cv.append(create_polynomial_regression_model(i))\n",
    " \n",
    "plt.scatter(range(1,8),poly_cv)\n",
    "plt.title(\"R-squared  Using Cross Validation- Predictor: All\")\n",
    "plt.xlabel(\"Degree of Regression\")\n",
    "plt.ylabel(\"R-squared\")"
   ]
  },
  {
   "cell_type": "code",
   "execution_count": 39,
   "id": "respected-culture",
   "metadata": {},
   "outputs": [
    {
     "name": "stdout",
     "output_type": "stream",
     "text": [
      "The R-squared value for testing is: -156892.61390433222\n",
      "The R-squared value for training is: 0.9467336264076076\n"
     ]
    }
   ],
   "source": [
    "#Step 7: I want to see what the testing and training error would be for these polynomial models\n",
    "y_data = df['price']\n",
    "\n",
    "x_data= df[['consumption','exports','production','inventories']]\n",
    "\n",
    "# The data is split in a training set and a testing set. The testing set will be 30% of the data\n",
    "\n",
    "x_train, x_test, y_train, y_test = train_test_split(x_data, y_data, test_size=0.3, random_state=0)\n",
    "Input=[('scale',StandardScaler()), ('polynomial', PolynomialFeatures(degree=12)), ('model',LinearRegression())]\n",
    "pipe=Pipeline(Input)\n",
    "pipe.fit(x_train[['consumption']],y_train)\n",
    "R_training =pipe.score(x_train[['consumption']],y_train)\n",
    "R_testing =pipe.score(x_test[['consumption']],y_test)\n",
    "print('The R-squared value for testing is:',R_testing)\n",
    "print('The R-squared value for training is:', R_training)"
   ]
  },
  {
   "cell_type": "code",
   "execution_count": 28,
   "id": "twenty-guarantee",
   "metadata": {},
   "outputs": [],
   "source": [
    "#Step 8: I want visually see the polynomial predicted functions\n",
    "\n",
    "# Fucntion for plotting polynomial models\n",
    "\n",
    "def PollyPlot(xtrain, xtest, y_train, y_test, lr,poly_transform):\n",
    "    width = 12\n",
    "    height = 10\n",
    "    plt.figure(figsize=(width, height))\n",
    "    \n",
    "    \n",
    "    #training data \n",
    "    #testing data \n",
    "    # lr:  linear regression object \n",
    "    #poly_transform:  polynomial transformation object \n",
    " \n",
    "    xmax=max([xtrain.values.max(), xtest.values.max()])\n",
    "\n",
    "    xmin=min([xtrain.values.min(), xtest.values.min()])\n",
    "\n",
    "    x=np.arange(xmin, xmax, 0.1)\n",
    "\n",
    "\n",
    "    plt.plot(xtrain, y_train, 'ro', label='Training Data')\n",
    "    plt.plot(xtest, y_test, 'go', label='Test Data')\n",
    "    plt.plot(x, lr.predict(poly_transform.fit_transform(x.reshape(-1, 1))), label='Predicted Function')\n",
    "    plt.ylim([0, 6])\n",
    "    plt.ylabel('Price (USD)')\n",
    "    plt.xlabel('consumption')\n",
    "    plt.legend()"
   ]
  },
  {
   "cell_type": "code",
   "execution_count": 45,
   "id": "discrete-cassette",
   "metadata": {},
   "outputs": [
    {
     "data": {
      "text/plain": [
       "PolynomialFeatures(degree=12)"
      ]
     },
     "execution_count": 45,
     "metadata": {},
     "output_type": "execute_result"
    }
   ],
   "source": [
    "#Create transformation of data using poly features\n",
    "\n",
    "#Indicate the degree of the polynomial regression\n",
    "\n",
    "pr = PolynomialFeatures(degree=12)\n",
    "\n",
    "# This is done for training and test sets\n",
    "\n",
    "x_train_pr = pr.fit_transform(x_train[['consumption']])\n",
    "\n",
    "x_test_pr = pr.fit_transform(x_test[['consumption']])\n",
    "\n",
    "pr"
   ]
  },
  {
   "cell_type": "code",
   "execution_count": 46,
   "id": "taken-musical",
   "metadata": {},
   "outputs": [
    {
     "data": {
      "text/plain": [
       "LinearRegression()"
      ]
     },
     "execution_count": 46,
     "metadata": {},
     "output_type": "execute_result"
    }
   ],
   "source": [
    "#Create regression model\n",
    "\n",
    "poly = LinearRegression()\n",
    "\n",
    "#Train the model\n",
    "\n",
    "poly.fit(x_train_pr, y_train)"
   ]
  },
  {
   "cell_type": "code",
   "execution_count": 47,
   "id": "legendary-tumor",
   "metadata": {},
   "outputs": [
    {
     "data": {
      "text/plain": [
       "array([1.60970235, 1.63507466, 3.2609442 , 1.75268618, 3.27238848])"
      ]
     },
     "execution_count": 47,
     "metadata": {},
     "output_type": "execute_result"
    }
   ],
   "source": [
    "# Predict values using the model\n",
    "\n",
    "yhat = poly.predict(x_test_pr)\n",
    "\n",
    "yhat[0:5]"
   ]
  },
  {
   "cell_type": "code",
   "execution_count": 48,
   "id": "legendary-camel",
   "metadata": {},
   "outputs": [
    {
     "name": "stdout",
     "output_type": "stream",
     "text": [
      "Predicted values: [1.60970235 1.63507466 3.2609442  1.75268618]\n",
      "True values: [1.05393672 1.00643856 3.45114054 1.97271891]\n",
      "The mean squared error is: 0.6453193454332283\n"
     ]
    }
   ],
   "source": [
    "print(\"Predicted values:\", yhat[0:4])\n",
    "\n",
    "#Comparing with true values\n",
    "\n",
    "print(\"True values:\", y_test[0:4].values)\n",
    "\n",
    "#Calculate the MSE\n",
    "\n",
    "print(\"The mean squared error is:\", mean_squared_error(y_test,yhat))"
   ]
  },
  {
   "cell_type": "code",
   "execution_count": 49,
   "id": "athletic-southeast",
   "metadata": {},
   "outputs": [
    {
     "data": {
      "image/png": "[encoded data removed]",
      "text/plain": [
       "<Figure size 864x720 with 1 Axes>"
      ]
     },
     "metadata": {
      "needs_background": "light"
     },
     "output_type": "display_data"
    }
   ],
   "source": [
    "#Use function to visualize the polynomial fit\n",
    "\n",
    "PollyPlot(x_train[['consumption']], x_test[['consumption']], y_train, y_test, poly,pr)"
   ]
  },
  {
   "cell_type": "code",
   "execution_count": null,
   "id": "narrative-boston",
   "metadata": {},
   "outputs": [],
   "source": []
  },
  {
   "cell_type": "code",
   "execution_count": null,
   "id": "hourly-sport",
   "metadata": {},
   "outputs": [],
   "source": []
  }
 ],
 "metadata": {
  "kernelspec": {
   "display_name": "Python 3",
   "language": "python",
   "name": "python3"
  },
  "language_info": {
   "codemirror_mode": {
    "name": "ipython",
    "version": 3
   },
   "file_extension": ".py",
   "mimetype": "text/x-python",
   "name": "python",
   "nbconvert_exporter": "python",
   "pygments_lexer": "ipython3",
   "version": "3.6.13"
  }
 },
 "nbformat": 4,
 "nbformat_minor": 5
}
